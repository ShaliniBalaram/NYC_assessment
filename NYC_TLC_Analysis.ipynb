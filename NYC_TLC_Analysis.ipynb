{
 "cells": [
  {
   "cell_type": "markdown",
   "metadata": {},
   "source": [
    "# NYC Taxi & Limousine Commission (TLC) Data Analysis\n",
    "\n",
    "This notebook provides a comprehensive analysis of NYC TLC trip data, exploring various aspects of taxi operations including:\n",
    "- Trip Volume Patterns\n",
    "- Financial Metrics\n",
    "- Geographic Distribution\n",
    "- Performance Indicators\n",
    "\n",
    "## Setup and Dependencies"
   ]
  },
  {
   "cell_type": "code",
   "execution_count": null,
   "metadata": {},
   "source": [
    "import pandas as pd\n",
    "import numpy as np\n",
    "import plotly.express as px\n",
    "import plotly.graph_objects as go\n",
    "from plotly.subplots import make_subplots\n",
    "from google.cloud import bigquery\n",
    "from datetime import datetime, timedelta\n",
    "\n",
    "# Initialize BigQuery client\n",
    "client = bigquery.Client(project='scenic-flux-441021-t4')"
   ]
  },
  {
   "cell_type": "markdown",
   "metadata": {},
   "source": [
    "## 1. Trip Volume Analysis\n",
    "\n",
    "Let's analyze the patterns in trip volume across different time periods."
   ]
  },
  {
   "cell_type": "code",
   "execution_count": null,
   "metadata": {},
   "source": [
    "# Query trip volume data\n",
    "query = \"\"\"\n",
    "SELECT * FROM `scenic-flux-441021-t4.nyc_tlc_data.dashboard_trip_volume`\n",
    "\"\"\"\n",
    "volume_df = client.query(query).to_dataframe()\n",
    "\n",
    "# Hourly patterns\n",
    "fig = px.line(volume_df, x='pickup_hour', y='trip_count',\n",
    "              title='Hourly Trip Distribution',\n",
    "              labels={'pickup_hour': 'Hour of Day',\n",
    "                     'trip_count': 'Number of Trips'})\n",
    "fig.show()\n",
    "\n",
    "# Daily patterns with average fare\n",
    "fig = make_subplots(specs=[[{\"secondary_y\": True}]])\n",
    "fig.add_trace(\n",
    "    go.Bar(x=volume_df['pickup_dayofweek'], y=volume_df['trip_count'],\n",
    "           name=\"Trip Count\"),\n",
    "    secondary_y=False\n",
    ")\n",
    "fig.add_trace(\n",
    "    go.Scatter(x=volume_df['pickup_dayofweek'], y=volume_df['avg_fare'],\n",
    "               name=\"Average Fare\", mode='lines+markers'),\n",
    "    secondary_y=True\n",
    ")\n",
    "fig.update_layout(title='Daily Trip Patterns and Average Fares')\n",
    "fig.show()"
   ]
  },
  {
   "cell_type": "markdown",
   "metadata": {},
   "source": [
    "### Key Observations:\n",
    "- Peak hours typically occur during rush hours (morning and evening)\n",
    "- Weekend patterns differ from weekdays\n",
    "- Average fares tend to be higher during off-peak hours\n",
    "\n",
    "## 2. Financial Analysis\n",
    "\n",
    "Let's examine the financial aspects of the taxi operations."
   ]
  },
  {
   "cell_type": "code",
   "execution_count": null,
   "metadata": {},
   "source": [
    "# Query financial metrics\n",
    "query = \"\"\"\n",
    "SELECT * FROM `scenic-flux-441021-t4.nyc_tlc_data.dashboard_financial_metrics`\n",
    "\"\"\"\n",
    "finance_df = client.query(query).to_dataframe()\n",
    "\n",
    "# Payment type distribution\n",
    "fig = px.pie(finance_df, values='trip_count', names='payment_type',\n",
    "             title='Trip Distribution by Payment Type')\n",
    "fig.show()\n",
    "\n",
    "# Tip percentage patterns\n",
    "fig = px.violin(finance_df, x='time_of_day', y='avg_tip_percentage',\n",
    "                title='Tip Percentage Distribution by Time of Day',\n",
    "                labels={'time_of_day': 'Time of Day',\n",
    "                       'avg_tip_percentage': 'Average Tip (%)'})\n",
    "fig.show()"
   ]
  },
  {
   "cell_type": "markdown",
   "metadata": {},
   "source": [
    "### Financial Insights:\n",
    "- Credit card payments dominate the payment methods\n",
    "- Tip percentages vary significantly by time of day\n",
    "- Higher tips are generally observed during evening hours\n",
    "\n",
    "## 3. Geographic Distribution\n",
    "\n",
    "Analyzing the spatial patterns of taxi trips."
   ]
  },
  {
   "cell_type": "code",
   "execution_count": null,
   "metadata": {},
   "source": [
    "# Query geographic metrics\n",
    "query = \"\"\"\n",
    "SELECT * FROM `scenic-flux-441021-t4.nyc_tlc_data.dashboard_geographic_metrics`\n",
    "\"\"\"\n",
    "geo_df = client.query(query).to_dataframe()\n",
    "\n",
    "# Top pickup locations\n",
    "top_locations = geo_df.groupby('pickup_location_id').agg({\n",
    "    'trip_count': 'sum',\n",
    "    'avg_fare': 'mean'\n",
    "}).sort_values('trip_count', ascending=False).head(10)\n",
    "\n",
    "fig = px.bar(top_locations, x=top_locations.index, y='trip_count',\n",
    "             title='Top 10 Pickup Locations',\n",
    "             labels={'index': 'Location ID',\n",
    "                    'trip_count': 'Number of Trips'})\n",
    "fig.show()\n",
    "\n",
    "# Speed vs Distance patterns\n",
    "fig = px.scatter(geo_df, x='avg_distance', y='avg_speed',\n",
    "                 color='avg_fare',\n",
    "                 title='Speed vs Distance by Location',\n",
    "                 labels={'avg_distance': 'Average Distance (miles)',\n",
    "                        'avg_speed': 'Average Speed (mph)',\n",
    "                        'avg_fare': 'Average Fare ($)'})\n",
    "fig.show()"
   ]
  },
  {
   "cell_type": "markdown",
   "metadata": {},
   "source": [
    "### Geographic Insights:\n",
    "- Certain locations consistently generate more trips\n",
    "- Trip speed varies with distance and location\n",
    "- Higher fares correlate with longer distances\n",
    "\n",
    "## 4. Performance Metrics\n",
    "\n",
    "Analyzing operational performance indicators."
   ]
  },
  {
   "cell_type": "code",
   "execution_count": null,
   "metadata": {},
   "source": [
    "# Query performance metrics\n",
    "query = \"\"\"\n",
    "SELECT * FROM `scenic-flux-441021-t4.nyc_tlc_data.dashboard_performance_metrics`\n",
    "\"\"\"\n",
    "perf_df = client.query(query).to_dataframe()\n",
    "\n",
    "# Speed distribution by time\n",
    "fig = px.box(perf_df, x='time_of_day', y='avg_speed',\n",
    "             color='is_weekend',\n",
    "             title='Speed Distribution by Time',\n",
    "             labels={'time_of_day': 'Time of Day',\n",
    "                    'avg_speed': 'Average Speed (mph)',\n",
    "                    'is_weekend': 'Weekend'})\n",
    "fig.show()\n",
    "\n",
    "# Trip duration patterns\n",
    "fig = px.violin(perf_df, x='trip_distance_category', y='avg_duration',\n",
    "                color='is_weekend',\n",
    "                title='Trip Duration by Distance Category',\n",
    "                labels={'trip_distance_category': 'Distance Category',\n",
    "                       'avg_duration': 'Average Duration (minutes)',\n",
    "                       'is_weekend': 'Weekend'})\n",
    "fig.show()"
   ]
  },
  {
   "cell_type": "markdown",
   "metadata": {},
   "source": [
    "### Performance Insights:\n",
    "- Average speeds vary significantly by time of day\n",
    "- Weekend trips show different duration patterns\n",
    "- Trip duration correlates strongly with distance category\n",
    "\n",
    "## Summary\n",
    "\n",
    "This analysis reveals several key insights about NYC taxi operations:\n",
    "\n",
    "1. **Temporal Patterns**\n",
    "   - Clear rush hour peaks in trip volume\n",
    "   - Different patterns for weekdays vs weekends\n",
    "\n",
    "2. **Financial Trends**\n",
    "   - Credit card payments are most common\n",
    "   - Tips vary by time and location\n",
    "\n",
    "3. **Geographic Distribution**\n",
    "   - Certain locations generate significantly more trips\n",
    "   - Trip characteristics vary by location\n",
    "\n",
    "4. **Operational Performance**\n",
    "   - Speed and duration affected by time of day\n",
    "   - Weekend operations show distinct patterns\n",
    "\n",
    "These insights can be valuable for:\n",
    "- Optimizing taxi fleet distribution\n",
    "- Improving service during peak hours\n",
    "- Understanding customer behavior\n",
    "- Enhancing operational efficiency"
   ]
  }
 ],
 "metadata": {
  "kernelspec": {
   "display_name": "Python 3",
   "language": "python",
   "name": "python3"
  },
  "language_info": {
   "codemirror_mode": {
    "name": "ipython",
    "version": 3
   },
   "file_extension": ".py",
   "mimetype": "text/x-python",
   "name": "python",
   "nbconvert_exporter": "python",
   "pygments_lexer": "ipython3",
   "version": "3.8.0"
  }
 },
 "nbformat": 4,
 "nbformat_minor": 4
}
